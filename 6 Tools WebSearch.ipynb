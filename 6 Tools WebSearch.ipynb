{
 "cells": [
  {
   "cell_type": "code",
   "execution_count": 1,
   "metadata": {},
   "outputs": [],
   "source": [
    "import os\n",
    "from dotenv import load_dotenv\n",
    "load_dotenv()\n",
    "os.environ[\"OPENAI_API_KEY\"]=os.getenv(\"OPENAI_API_KEY\")\n"
   ]
  },
  {
   "cell_type": "code",
   "execution_count": 2,
   "metadata": {},
   "outputs": [],
   "source": [
    "from agents import Agent, Runner, WebSearchTool\n",
    "\n",
    "agent = Agent(\n",
    "    name=\"Assistant\",\n",
    "    tools=[\n",
    "        WebSearchTool()\n",
    "    ],\n",
    ")\n",
    "\n",
    "async def main():\n",
    "    result = await Runner.run(agent, \"Tell me news about OpenAI since last week about open ai agents\")\n",
    "    print(result.final_output)"
   ]
  },
  {
   "cell_type": "code",
   "execution_count": 3,
   "metadata": {},
   "outputs": [
    {
     "name": "stdout",
     "output_type": "stream",
     "text": [
      "OpenAI has recently introduced several advancements in AI agents:\n",
      "\n",
      "**Responses API Launch**\n",
      "\n",
      "On March 11, 2025, OpenAI unveiled the Responses API, a new tool designed to assist developers in creating advanced AI agents capable of executing complex tasks autonomously. This API replaces the previous Assistants API and is available to developers at no additional cost. The Assistants API is scheduled for phase-out by mid-2026. This launch comes amid increasing competition from Chinese AI startups, such as Monica, which recently introduced an AI agent named Manus, claiming superior performance over OpenAI's DeepResearch agent. ([reuters.com](https://www.reuters.com/technology/artificial-intelligence/openai-launches-new-developer-tools-chinese-ai-startups-gain-ground-2025-03-11/?utm_source=openai))\n",
      "\n",
      "**Introduction of 'Operator' AI Agent**\n",
      "\n",
      "OpenAI has also introduced 'Operator,' a semi-autonomous AI agent designed to perform web-based tasks on behalf of users. Built on OpenAI's Computer-Using Agent (CUA) technology, Operator combines GPT-4o's vision capabilities with reinforcement learning. It can navigate web browsers, interact with graphical user interfaces, and execute tasks like booking reservations or compiling grocery lists. Operator is currently available as a research preview for ChatGPT Pro subscribers in the U.S. ([theoutpost.ai](https://theoutpost.ai/news-story/open-ai-ceo-sam-altman-to-brief-us-officials-on-advanced-ai-agents-10839/?utm_source=openai))\n",
      "\n",
      "**Launch of 'Swarm' Framework**\n",
      "\n",
      "Additionally, OpenAI has released 'Swarm,' an open-source agentic framework that enables developers to explore multi-agent orchestration. This project aims to facilitate the development of lightweight, scalable agents capable of handling complex tasks collaboratively. 'Swarm' has quickly gained traction, amassing nearly 13,000 stars on GitHub within days of its release. ([home.chatplayground.ai](https://home.chatplayground.ai/blog/the-latest-in-ai-openai-s-new-agents-nvidia-s-powerhouse-chip-and-more?utm_source=openai))\n",
      "\n",
      "\n",
      "## Recent Developments in OpenAI's AI Agents:\n",
      "- [OpenAI launches new developer tools as Chinese AI startups gain ground](https://www.reuters.com/technology/artificial-intelligence/openai-launches-new-developer-tools-chinese-ai-startups-gain-ground-2025-03-11/?utm_source=openai)\n",
      "- [When AI Thinks It Will Lose, It Sometimes Cheats, Study Finds](https://time.com/7259395/ai-chess-cheating-palisade-research/?utm_source=openai)\n",
      "- [Transcript: Tech in 2025 - Hi, I'm your AI-powered assistant](https://www.ft.com/content/0d1a6357-7913-4ff7-a922-643f172d7c98?utm_source=openai) \n"
     ]
    }
   ],
   "source": [
    "if __name__==\"__main__\":\n",
    "    await main()"
   ]
  },
  {
   "cell_type": "code",
   "execution_count": null,
   "metadata": {},
   "outputs": [],
   "source": []
  },
  {
   "cell_type": "code",
   "execution_count": null,
   "metadata": {},
   "outputs": [],
   "source": []
  },
  {
   "cell_type": "code",
   "execution_count": null,
   "metadata": {},
   "outputs": [],
   "source": []
  },
  {
   "cell_type": "code",
   "execution_count": null,
   "metadata": {},
   "outputs": [],
   "source": []
  },
  {
   "cell_type": "code",
   "execution_count": null,
   "metadata": {},
   "outputs": [],
   "source": []
  },
  {
   "cell_type": "code",
   "execution_count": null,
   "metadata": {},
   "outputs": [],
   "source": []
  }
 ],
 "metadata": {
  "kernelspec": {
   "display_name": ".venv",
   "language": "python",
   "name": "python3"
  },
  "language_info": {
   "codemirror_mode": {
    "name": "ipython",
    "version": 3
   },
   "file_extension": ".py",
   "mimetype": "text/x-python",
   "name": "python",
   "nbconvert_exporter": "python",
   "pygments_lexer": "ipython3",
   "version": "3.10.0"
  }
 },
 "nbformat": 4,
 "nbformat_minor": 2
}
